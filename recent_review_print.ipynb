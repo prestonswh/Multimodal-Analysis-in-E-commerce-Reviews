{
 "cells": [
  {
   "cell_type": "code",
   "execution_count": 2,
   "metadata": {},
   "outputs": [
    {
     "name": "stdout",
     "output_type": "stream",
     "text": [
      "Most recent review's date: 2023-04-17 20:26:26.849000\n"
     ]
    }
   ],
   "source": [
    "import pandas as pd\n",
    "\n",
    "# Load the dataset\n",
    "df_review = pd.read_csv('df_review.csv')\n",
    "\n",
    "# Convert the 'review_date' column to datetime format\n",
    "df_review['review_date'] = pd.to_datetime(df_review['review_date'], errors='coerce')\n",
    "\n",
    "# Find the most recent review's date\n",
    "most_recent_review_date = df_review['review_date'].max()\n",
    "\n",
    "# Print the most recent review's date\n",
    "print(\"Most recent review's date:\", most_recent_review_date)"
   ]
  },
  {
   "cell_type": "code",
   "execution_count": null,
   "metadata": {},
   "outputs": [],
   "source": []
  }
 ],
 "metadata": {
  "kernelspec": {
   "display_name": "base",
   "language": "python",
   "name": "python3"
  },
  "language_info": {
   "codemirror_mode": {
    "name": "ipython",
    "version": 3
   },
   "file_extension": ".py",
   "mimetype": "text/x-python",
   "name": "python",
   "nbconvert_exporter": "python",
   "pygments_lexer": "ipython3",
   "version": "3.10.13"
  }
 },
 "nbformat": 4,
 "nbformat_minor": 2
}
