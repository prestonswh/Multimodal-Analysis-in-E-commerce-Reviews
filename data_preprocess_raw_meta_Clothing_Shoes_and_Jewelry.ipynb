{
 "cells": [
  {
   "cell_type": "code",
   "execution_count": 1,
   "metadata": {},
   "outputs": [],
   "source": [
    " # ! pip install datasets\n",
    "import datasets \n",
    "datasets.logging.set_verbosity_error()"
   ]
  },
  {
   "cell_type": "code",
   "execution_count": 2,
   "metadata": {},
   "outputs": [
    {
     "data": {
      "application/vnd.jupyter.widget-view+json": {
       "model_id": "e9c313c0400a4b5fbf9241d31a706479",
       "version_major": 2,
       "version_minor": 0
      },
      "text/plain": [
       "Loading dataset shards:   0%|          | 0/31 [00:00<?, ?it/s]"
      ]
     },
     "metadata": {},
     "output_type": "display_data"
    }
   ],
   "source": [
    "from datasets import load_dataset\n",
    "\n",
    "dataset = load_dataset(\"McAuley-Lab/Amazon-Reviews-2023\", \"raw_meta_Clothing_Shoes_and_Jewelry\", trust_remote_code=True)"
   ]
  },
  {
   "cell_type": "code",
   "execution_count": 5,
   "metadata": {},
   "outputs": [
    {
     "data": {
      "text/plain": [
       "{'full': ['main_category',\n",
       "  'title',\n",
       "  'average_rating',\n",
       "  'rating_number',\n",
       "  'features',\n",
       "  'description',\n",
       "  'price',\n",
       "  'images',\n",
       "  'videos',\n",
       "  'store',\n",
       "  'categories',\n",
       "  'details',\n",
       "  'parent_asin',\n",
       "  'bought_together',\n",
       "  'subtitle',\n",
       "  'author']}"
      ]
     },
     "execution_count": 5,
     "metadata": {},
     "output_type": "execute_result"
    }
   ],
   "source": [
    "dataset.column_names"
   ]
  },
  {
   "cell_type": "code",
   "execution_count": 6,
   "metadata": {},
   "outputs": [
    {
     "data": {
      "text/plain": [
       "{'main_category': 'AMAZON FASHION',\n",
       " 'title': \"BALEAF Women's Long Sleeve Zip Beach Coverup UPF 50+ Sun Protection Hooded Cover Up Shirt Dress with Pockets\",\n",
       " 'average_rating': 4.2,\n",
       " 'rating_number': 422,\n",
       " 'features': ['90% Polyester, 10% Spandex',\n",
       "  'Zipper closure',\n",
       "  'Machine Wash',\n",
       "  'Long sleeve sun protection coverups--UPF 50+ blocks the sun from burning',\n",
       "  'Zipped v-neckline--fashionable V neck and smooth 1/4 zipper allows to staying place as you like',\n",
       "  'Two drop-in side pockets--hold your phone or keys well，no worries of falling out',\n",
       "  'Hoodie with non-slip drawcord--Enhancing hooded design is convenient to wrap your face and enough space to put your head and hair easily',\n",
       "  'A flattering coverups company you spend all day on the beach，traveling with lovers or busying around house. Recommended For everyday leisure or daily exercise'],\n",
       " 'description': [],\n",
       " 'price': '31.99',\n",
       " 'images': {'hi_res': ['https://m.media-amazon.com/images/I/61KIZjb54AL._AC_UL1500_.jpg',\n",
       "   'https://m.media-amazon.com/images/I/61OkTrsW88L._AC_UL1500_.jpg',\n",
       "   'https://m.media-amazon.com/images/I/811lbVuVIAL._AC_UL1500_.jpg',\n",
       "   'https://m.media-amazon.com/images/I/71wa-UQGlYL._AC_UL1500_.jpg',\n",
       "   'https://m.media-amazon.com/images/I/61tspZIpHqL._AC_UL1500_.jpg',\n",
       "   'https://m.media-amazon.com/images/I/71oVECB3VYL._AC_UL1500_.jpg'],\n",
       "  'large': ['https://m.media-amazon.com/images/I/31zPYU+UkVL._AC_.jpg',\n",
       "   'https://m.media-amazon.com/images/I/31LYNX5KQ6L._AC_.jpg',\n",
       "   'https://m.media-amazon.com/images/I/51dD8Ga+wQL._AC_.jpg',\n",
       "   'https://m.media-amazon.com/images/I/41kM3Cn3ERL._AC_.jpg',\n",
       "   'https://m.media-amazon.com/images/I/41ZzITDO+OL._AC_.jpg',\n",
       "   'https://m.media-amazon.com/images/I/51jTzfIP3dL._AC_.jpg'],\n",
       "  'thumb': ['https://m.media-amazon.com/images/I/31zPYU+UkVL._AC_SR38,50_.jpg',\n",
       "   'https://m.media-amazon.com/images/I/31LYNX5KQ6L._AC_SR38,50_.jpg',\n",
       "   'https://m.media-amazon.com/images/I/51dD8Ga+wQL._AC_SR38,50_.jpg',\n",
       "   'https://m.media-amazon.com/images/I/41kM3Cn3ERL._AC_SR38,50_.jpg',\n",
       "   'https://m.media-amazon.com/images/I/41ZzITDO+OL._AC_SR38,50_.jpg',\n",
       "   'https://m.media-amazon.com/images/I/51jTzfIP3dL._AC_SR38,50_.jpg'],\n",
       "  'variant': ['MAIN', 'PT01', 'PT02', 'PT03', 'PT04', 'PT05']},\n",
       " 'videos': {'title': [\"Women's UPF 50+ Front Zip Beach Coverups with Pockets\",\n",
       "   \" Women's Swim Cover Up Dress\"],\n",
       "  'url': ['https://www.amazon.com/vdp/0041f3df9f604577bd982078c9f3fec2?ref=dp_vse_rvc_0',\n",
       "   'https://www.amazon.com/vdp/0222bb314b16471a8b43f19080358fdc?ref=dp_vse_rvc_1'],\n",
       "  'user_id': ['', '']},\n",
       " 'store': 'BALEAF',\n",
       " 'categories': ['Clothing, Shoes & Jewelry',\n",
       "  'Women',\n",
       "  'Clothing',\n",
       "  'Swimsuits & Cover Ups',\n",
       "  'Cover-Ups'],\n",
       " 'details': '{\"Department\": \"womens\", \"Date First Available\": \"April 3, 2022\"}',\n",
       " 'parent_asin': 'B09X1MRDN6',\n",
       " 'bought_together': None,\n",
       " 'subtitle': None,\n",
       " 'author': None}"
      ]
     },
     "execution_count": 6,
     "metadata": {},
     "output_type": "execute_result"
    }
   ],
   "source": [
    "dataset['full'][0]"
   ]
  },
  {
   "cell_type": "code",
   "execution_count": 7,
   "metadata": {},
   "outputs": [
    {
     "name": "stdout",
     "output_type": "stream",
     "text": [
      "Gifts\n",
      "Amazon Devices\n",
      "Baby\n",
      "Movies & TV\n",
      "Grocery\n",
      "Camera & Photo\n",
      "Buy a Kindle\n",
      "AMAZON FASHION\n",
      "Toys & Games\n",
      "All Beauty\n",
      "Cell Phones & Accessories\n",
      "Industrial & Scientific\n",
      "Books\n",
      "Office Products\n",
      "Computers\n",
      "None\n",
      "Home Audio & Theater\n",
      "All Electronics\n",
      "Musical Instruments\n",
      "Portable Audio & Accessories\n",
      "Magazine Subscriptions\n",
      "Automotive\n",
      "Handmade\n",
      "Sports & Outdoors\n",
      "Arts, Crafts & Sewing\n",
      "Amazon Home\n",
      "GPS & Navigation\n",
      "Premium Beauty\n",
      "Appliances\n",
      "Unique Finds\n",
      "Car Electronics\n",
      "Video Games\n",
      "Entertainment\n",
      "Digital Music\n",
      "Gift Cards\n",
      "Health & Personal Care\n",
      "Sports Collectibles\n",
      "Collectible Coins\n",
      "Tools & Home Improvement\n",
      "Software\n"
     ]
    }
   ],
   "source": [
    "for i in set(dataset['full']['main_category']):\n",
    "    print(i)"
   ]
  },
  {
   "cell_type": "code",
   "execution_count": 12,
   "metadata": {},
   "outputs": [
    {
     "name": "stdout",
     "output_type": "stream",
     "text": [
      "7218481\n"
     ]
    }
   ],
   "source": [
    "print(len(dataset['full']))"
   ]
  },
  {
   "cell_type": "code",
   "execution_count": 20,
   "metadata": {},
   "outputs": [
    {
     "name": "stdout",
     "output_type": "stream",
     "text": [
      "i images:  8 {'hi_res': ['https://m.media-amazon.com/images/I/71FC3tE1mhL._AC_UL1500_.jpg', 'https://m.media-amazon.com/images/I/81WW1ovMLtL._AC_UL1500_.jpg', 'https://m.media-amazon.com/images/I/71imb8-c5aL._AC_UL1500_.jpg'], 'large': ['https://m.media-amazon.com/images/I/519V5HHexKL._AC_.jpg', 'https://m.media-amazon.com/images/I/51zXZWJUC2L._AC_.jpg', 'https://m.media-amazon.com/images/I/41lbkRsn5yL._AC_.jpg'], 'thumb': ['https://m.media-amazon.com/images/I/519V5HHexKL._AC_SR38,50_.jpg', 'https://m.media-amazon.com/images/I/51zXZWJUC2L._AC_SR38,50_.jpg', 'https://m.media-amazon.com/images/I/41lbkRsn5yL._AC_SR38,50_.jpg'], 'variant': ['MAIN', 'PT01', 'PT03']}\n",
      "categories:  ['Clothing, Shoes & Jewelry', 'Women', 'Clothing', 'Dresses', 'Formal']\n",
      "details:  {\"Department\": \"womens\", \"Date First Available\": \"March 6, 2019\"}\n",
      "i images:  10 {'hi_res': ['https://m.media-amazon.com/images/I/61xzt06IUzL._AC_UL1500_.jpg', 'https://m.media-amazon.com/images/I/61ZcOO2+rkL._AC_UL1500_.jpg', 'https://m.media-amazon.com/images/I/718yKIB40EL._AC_UL1500_.jpg', 'https://m.media-amazon.com/images/I/71yxnrd16yL._AC_UL1500_.jpg', 'https://m.media-amazon.com/images/I/81NeJlhCuyL._AC_UL1500_.jpg', 'https://m.media-amazon.com/images/I/81cQkPXPy6L._AC_UL1500_.jpg'], 'large': ['https://m.media-amazon.com/images/I/31td1rchwoL._AC_.jpg', 'https://m.media-amazon.com/images/I/31HtjhJRvtL._AC_.jpg', 'https://m.media-amazon.com/images/I/31EiJgfnqfL._AC_.jpg', 'https://m.media-amazon.com/images/I/318pTL+j8FL._AC_.jpg', 'https://m.media-amazon.com/images/I/41xbrfaQqOL._AC_.jpg', 'https://m.media-amazon.com/images/I/31yA-qE4nmL._AC_.jpg'], 'thumb': ['https://m.media-amazon.com/images/I/31td1rchwoL._AC_SR38,50_.jpg', 'https://m.media-amazon.com/images/I/31HtjhJRvtL._AC_SR38,50_.jpg', 'https://m.media-amazon.com/images/I/31EiJgfnqfL._AC_SR38,50_.jpg', 'https://m.media-amazon.com/images/I/318pTL+j8FL._AC_SR38,50_.jpg', 'https://m.media-amazon.com/images/I/41xbrfaQqOL._AC_SR38,50_.jpg', 'https://m.media-amazon.com/images/I/31yA-qE4nmL._AC_SR38,50_.jpg'], 'variant': ['MAIN', 'PT01', 'PT02', 'PT03', 'PT04', 'FL01']}\n",
      "categories:  ['Clothing, Shoes & Jewelry', 'Women', 'Clothing', 'Dresses', 'Casual']\n",
      "details:  {\"Item model number\": \"AE1932668\", \"Department\": \"womens\", \"Date First Available\": \"June 3, 2021\", \"Manufacturer\": \"Amazon Essentials\"}\n",
      "i images:  66 {'hi_res': [None, None, None, None, None, None, None, None], 'large': ['https://m.media-amazon.com/images/I/51dbeWFhpYL._AC_.jpg', 'https://m.media-amazon.com/images/I/61w-zXKNAmL._AC_.jpg', 'https://m.media-amazon.com/images/I/51EUsidD+cL._AC_.jpg', 'https://m.media-amazon.com/images/I/616PIfxRqdL._AC_.jpg', 'https://m.media-amazon.com/images/I/61H1ZkX3pHL._AC_.jpg', 'https://m.media-amazon.com/images/I/51AbIlmTh5L._AC_.jpg', 'https://m.media-amazon.com/images/I/51IvevIHF+L._AC_.jpg', 'https://m.media-amazon.com/images/I/61y1-rAlufL._AC_.jpg'], 'thumb': ['https://m.media-amazon.com/images/I/51dbeWFhpYL._AC_SR38,50_.jpg', 'https://m.media-amazon.com/images/I/61w-zXKNAmL._AC_SR38,50_.jpg', 'https://m.media-amazon.com/images/I/51EUsidD+cL._AC_SR38,50_.jpg', 'https://m.media-amazon.com/images/I/616PIfxRqdL._AC_SR38,50_.jpg', 'https://m.media-amazon.com/images/I/61H1ZkX3pHL._AC_SR38,50_.jpg', 'https://m.media-amazon.com/images/I/51AbIlmTh5L._AC_SR38,50_.jpg', 'https://m.media-amazon.com/images/I/51IvevIHF+L._AC_SR38,50_.jpg', 'https://m.media-amazon.com/images/I/61y1-rAlufL._AC_SR38,50_.jpg'], 'variant': ['MAIN', 'PT01', 'PT02', 'PT03', 'PT05', 'PT06', 'PT07', 'PT08']}\n",
      "categories:  ['Clothing, Shoes & Jewelry', 'Women', 'Clothing', 'Dresses', 'Casual']\n",
      "details:  {\"Item model number\": \"WG5W220829-P\", \"Department\": \"womens\", \"Date First Available\": \"March 31, 2021\", \"Manufacturer\": \"Dokotoo\"}\n",
      "i images:  79 {'hi_res': ['https://m.media-amazon.com/images/I/61H6RoUaseL._AC_UL1500_.jpg', 'https://m.media-amazon.com/images/I/61DLlb59t2L._AC_UL1500_.jpg', 'https://m.media-amazon.com/images/I/614-gv80WPL._AC_UL1500_.jpg', 'https://m.media-amazon.com/images/I/716vofYLDpL._AC_UL1124_.jpg', 'https://m.media-amazon.com/images/I/71-hd03rl1L._AC_UL1500_.jpg', 'https://m.media-amazon.com/images/I/615nUikF9bL._AC_UL1500_.jpg', 'https://m.media-amazon.com/images/I/71QYQYOpVFL._AC_UL1500_.jpg'], 'large': ['https://m.media-amazon.com/images/I/31evq9+6UmL._AC_.jpg', 'https://m.media-amazon.com/images/I/41T1bk0aEFL._AC_.jpg', 'https://m.media-amazon.com/images/I/41kRxRV9S7L._AC_.jpg', 'https://m.media-amazon.com/images/I/51Kmj6HeY0L._AC_.jpg', 'https://m.media-amazon.com/images/I/41DWohuQjuL._AC_.jpg', 'https://m.media-amazon.com/images/I/41dLAkrNvUL._AC_.jpg', 'https://m.media-amazon.com/images/I/41MXsgA8EWL._AC_.jpg'], 'thumb': ['https://m.media-amazon.com/images/I/31evq9+6UmL._AC_SR38,50_.jpg', 'https://m.media-amazon.com/images/I/41T1bk0aEFL._AC_SR38,50_.jpg', 'https://m.media-amazon.com/images/I/41kRxRV9S7L._AC_SR38,50_.jpg', 'https://m.media-amazon.com/images/I/51Kmj6HeY0L._AC_SR38,50_.jpg', 'https://m.media-amazon.com/images/I/41DWohuQjuL._AC_SR38,50_.jpg', 'https://m.media-amazon.com/images/I/41dLAkrNvUL._AC_SR38,50_.jpg', 'https://m.media-amazon.com/images/I/41MXsgA8EWL._AC_SR38,50_.jpg'], 'variant': ['MAIN', 'PT01', 'PT02', 'PT03', 'PT04', 'PT05', 'PT06']}\n",
      "categories:  ['Clothing, Shoes & Jewelry', 'Women', 'Clothing', 'Dresses']\n",
      "details:  {\"Department\": \"Womens\", \"Date First Available\": \"May 1, 2023\"}\n",
      "i images:  82 {'hi_res': ['https://m.media-amazon.com/images/I/71fefPjW2SL._AC_UL1100_.jpg', 'https://m.media-amazon.com/images/I/6136MTyVlwL._AC_UL1100_.jpg'], 'large': ['https://m.media-amazon.com/images/I/515acOjq2BL._AC_.jpg', 'https://m.media-amazon.com/images/I/51s+95R5lGL._AC_.jpg'], 'thumb': ['https://m.media-amazon.com/images/I/515acOjq2BL._AC_SR38,50_.jpg', 'https://m.media-amazon.com/images/I/51s+95R5lGL._AC_SR38,50_.jpg'], 'variant': ['MAIN', 'PT01']}\n",
      "categories:  ['Clothing, Shoes & Jewelry', 'Girls', 'Clothing', 'Dresses']\n",
      "details:  {\"Department\": \"girls\", \"Date First Available\": \"November 6, 2017\"}\n",
      "i images:  84 {'hi_res': ['https://m.media-amazon.com/images/I/51+q2NnLMkL._AC_UL1001_.jpg', 'https://m.media-amazon.com/images/I/61J8ZwxSMpL._AC_UL1002_.jpg', 'https://m.media-amazon.com/images/I/61zQ8LkEJVL._AC_UL1002_.jpg', 'https://m.media-amazon.com/images/I/510MRcv2oXL._AC_UL1002_.jpg', 'https://m.media-amazon.com/images/I/61EkR6rLukL._AC_UL1500_.jpg'], 'large': ['https://m.media-amazon.com/images/I/41uuq-k696L._AC_.jpg', 'https://m.media-amazon.com/images/I/41Zqdb0PVUL._AC_.jpg', 'https://m.media-amazon.com/images/I/41OZ1xw1lKL._AC_.jpg', 'https://m.media-amazon.com/images/I/31lY-f3T-5L._AC_.jpg', 'https://m.media-amazon.com/images/I/312vv4hbRLL._AC_.jpg'], 'thumb': ['https://m.media-amazon.com/images/I/41uuq-k696L._AC_SR38,50_.jpg', 'https://m.media-amazon.com/images/I/41Zqdb0PVUL._AC_SR38,50_.jpg', 'https://m.media-amazon.com/images/I/41OZ1xw1lKL._AC_SR38,50_.jpg', 'https://m.media-amazon.com/images/I/31lY-f3T-5L._AC_SR38,50_.jpg', 'https://m.media-amazon.com/images/I/312vv4hbRLL._AC_SR38,50_.jpg'], 'variant': ['MAIN', 'PT01', 'PT02', 'PT03', 'PT04']}\n",
      "categories:  ['Clothing, Shoes & Jewelry', 'Women', 'Clothing', 'Dresses']\n",
      "details:  {\"Package Dimensions\": \"12.6 x 9.2 x 1.6 inches; 1.15 Pounds\", \"Item model number\": \"MMB860-Wine-2XL\", \"Department\": \"womens\", \"Date First Available\": \"September 22, 2015\"}\n",
      "i images:  86 {'hi_res': ['https://m.media-amazon.com/images/I/51akyxpng+L._AC_UL1192_.jpg', 'https://m.media-amazon.com/images/I/517rkzWoPNL._AC_UL1192_.jpg', 'https://m.media-amazon.com/images/I/510Ptj8-usL._AC_UL1081_.jpg'], 'large': ['https://m.media-amazon.com/images/I/417Litd7mVL._AC_.jpg', 'https://m.media-amazon.com/images/I/31cmbf-upVL._AC_.jpg', 'https://m.media-amazon.com/images/I/31zIHh7aV-L._AC_.jpg'], 'thumb': ['https://m.media-amazon.com/images/I/417Litd7mVL._AC_SR38,50_.jpg', 'https://m.media-amazon.com/images/I/31cmbf-upVL._AC_SR38,50_.jpg', 'https://m.media-amazon.com/images/I/31zIHh7aV-L._AC_SR38,50_.jpg'], 'variant': ['MAIN', 'PT01', 'PT02']}\n",
      "categories:  ['Clothing, Shoes & Jewelry', 'Women', 'Clothing', 'Dresses', 'Casual']\n",
      "details:  {\"Is Discontinued By Manufacturer\": \"No\", \"Package Dimensions\": \"12.8 x 7.4 x 0.3 inches; 6.38 Ounces\", \"Department\": \"womens\", \"Date First Available\": \"May 20, 2018\"}\n"
     ]
    }
   ],
   "source": [
    "# if dataset['full'][i]['categories']('Dress') contains 'Dress' and contains 'Women' then print the details\n",
    "for i in range(100):\n",
    "    if(dataset['full'][i]['categories'].count('Dresses') > 0):\n",
    "        print('i images: ', i, dataset['full'][i]['images'])\n",
    "        print('categories: ', dataset['full'][i]['categories'])\n",
    "        print('details: ', dataset['full'][i]['details'])"
   ]
  },
  {
   "cell_type": "code",
   "execution_count": 21,
   "metadata": {},
   "outputs": [
    {
     "name": "stdout",
     "output_type": "stream",
     "text": [
      "count:  293461\n"
     ]
    }
   ],
   "source": [
    "# count number of images in the dataset that contain 'Dresses'\n",
    "count = 0\n",
    "for i in range(len(dataset['full'])):\n",
    "    if(dataset['full'][i]['categories'].count('Dresses') > 0):\n",
    "        count += 1\n",
    "print('count: ', count)"
   ]
  },
  {
   "cell_type": "code",
   "execution_count": 22,
   "metadata": {},
   "outputs": [
    {
     "name": "stdout",
     "output_type": "stream",
     "text": [
      "dresses:  293461\n"
     ]
    }
   ],
   "source": [
    "# save only the data that contains 'Dresses' in the category\n",
    "\n",
    "dresses = []\n",
    "for i in range(len(dataset['full'])):\n",
    "    if(dataset['full'][i]['categories'].count('Dresses') > 0):\n",
    "        dresses.append(dataset['full'][i])\n",
    "\n",
    "print('dresses: ', len(dresses))"
   ]
  },
  {
   "cell_type": "code",
   "execution_count": 23,
   "metadata": {},
   "outputs": [],
   "source": [
    "# save dresses into a json file\n",
    "import json\n",
    "\n",
    "with open('raw_meta_dresses.json', 'w') as f:\n",
    "    json.dump(dresses, f)"
   ]
  }
 ],
 "metadata": {
  "kernelspec": {
   "display_name": "Python 3",
   "language": "python",
   "name": "python3"
  },
  "language_info": {
   "codemirror_mode": {
    "name": "ipython",
    "version": 3
   },
   "file_extension": ".py",
   "mimetype": "text/x-python",
   "name": "python",
   "nbconvert_exporter": "python",
   "pygments_lexer": "ipython3",
   "version": "3.8.9"
  },
  "orig_nbformat": 4
 },
 "nbformat": 4,
 "nbformat_minor": 2
}
