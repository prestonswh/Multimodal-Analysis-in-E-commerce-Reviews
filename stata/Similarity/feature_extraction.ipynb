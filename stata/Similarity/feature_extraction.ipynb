{
 "cells": [
  {
   "cell_type": "code",
   "execution_count": 1,
   "metadata": {},
   "outputs": [
    {
     "name": "stdout",
     "output_type": "stream",
     "text": [
      "Downloading data from https://storage.googleapis.com/tensorflow/keras-applications/vgg16/vgg16_weights_tf_dim_ordering_tf_kernels.h5\n",
      "\u001b[1m553467096/553467096\u001b[0m \u001b[32m━━━━━━━━━━━━━━━━━━━━\u001b[0m\u001b[37m\u001b[0m \u001b[1m62s\u001b[0m 0us/step\n"
     ]
    },
    {
     "name": "stderr",
     "output_type": "stream",
     "text": [
      "Calculating Feature Similarities:   0%|          | 0/9484 [00:00<?, ?it/s]"
     ]
    }
   ],
   "source": [
    "import pandas as pd\n",
    "import cv2\n",
    "import numpy as np\n",
    "import requests\n",
    "import json\n",
    "from tqdm import tqdm\n",
    "from keras.applications.vgg16 import VGG16, preprocess_input\n",
    "from keras.preprocessing.image import img_to_array\n",
    "from keras.models import Model\n",
    "\n",
    "# Load pre-trained VGG16 model + higher level layers\n",
    "base_model = VGG16(weights='imagenet')\n",
    "model = Model(inputs=base_model.input, outputs=base_model.get_layer('fc1').output)\n",
    "\n",
    "def load_image_from_url(url, target_size=(224, 224)):\n",
    "    if not url:\n",
    "        return None\n",
    "    try:\n",
    "        resp = requests.get(url)\n",
    "        image = np.asarray(bytearray(resp.content), dtype=\"uint8\")\n",
    "        image = cv2.imdecode(image, cv2.IMREAD_COLOR)\n",
    "        image = cv2.resize(image, target_size)\n",
    "        return image\n",
    "    except requests.RequestException as e:\n",
    "        print(f\"Error loading image from {url}: {e}\")\n",
    "        return None\n",
    "\n",
    "def extract_first_image_url(image_list_str):\n",
    "    if not image_list_str or image_list_str == '[]':\n",
    "        return None\n",
    "    try:\n",
    "        image_list = json.loads(image_list_str.replace(\"'\", '\"'))\n",
    "        if image_list:\n",
    "            return image_list[0]\n",
    "        else:\n",
    "            return None\n",
    "    except json.JSONDecodeError:\n",
    "        return None\n",
    "\n",
    "def extract_features(image):\n",
    "    image = img_to_array(image)\n",
    "    image = np.expand_dims(image, axis=0)\n",
    "    image = preprocess_input(image)\n",
    "    features = model.predict(image)\n",
    "    return features.flatten()\n",
    "\n",
    "def calculate_feature_similarity(row):\n",
    "    if row['cgi_image_url'] is None or row['fgi_image_url'] is None:\n",
    "        return None  # Skip calculation if any URL is missing\n",
    "    image_cgi = load_image_from_url(row['cgi_image_url'])\n",
    "    image_fgi = load_image_from_url(row['fgi_image_url'])\n",
    "    if image_cgi is None or image_fgi is None:\n",
    "        return None\n",
    "    features_cgi = extract_features(image_cgi)\n",
    "    features_fgi = extract_features(image_fgi)\n",
    "    similarity = np.dot(features_cgi, features_fgi) / (np.linalg.norm(features_cgi) * np.linalg.norm(features_fgi))\n",
    "    return similarity\n",
    "\n",
    "def main():\n",
    "    df = pd.read_csv('df_review.csv')\n",
    "    df['fgi_image_url'] = df['fgi_images'].apply(extract_first_image_url)\n",
    "    df['cgi_image_url'] = df['cgi_images'].apply(extract_first_image_url)\n",
    "\n",
    "    tqdm.pandas(desc=\"Calculating Feature Similarities\")\n",
    "    df['cnn_similarity'] = df.progress_apply(calculate_feature_similarity, axis=1)\n",
    "\n",
    "    # Save the complete DataFrame to CSV\n",
    "    df.to_csv('df_review_cnn.csv', index=False)\n",
    "    print(\"Complete DataFrame saved to 'df_review_cnn.csv'.\")\n",
    "\n",
    "    # Drop the specified columns and save as a Stata DTA file\n",
    "    columns_to_drop = ['review_text', 'cgi_images', 'fgi_images', 'features']\n",
    "    df.drop(columns=columns_to_drop, errors='ignore').to_stata('df_review_cnn.dta', write_index=False)\n",
    "    print(\"Modified DataFrame saved to 'df_review_cnn.dta' without specified columns.\")\n",
    "\n",
    "if __name__ == \"__main__\":\n",
    "    main()"
   ]
  }
 ],
 "metadata": {
  "kernelspec": {
   "display_name": "base",
   "language": "python",
   "name": "python3"
  },
  "language_info": {
   "codemirror_mode": {
    "name": "ipython",
    "version": 3
   },
   "file_extension": ".py",
   "mimetype": "text/x-python",
   "name": "python",
   "nbconvert_exporter": "python",
   "pygments_lexer": "ipython3",
   "version": "3.9.19"
  }
 },
 "nbformat": 4,
 "nbformat_minor": 2
}
