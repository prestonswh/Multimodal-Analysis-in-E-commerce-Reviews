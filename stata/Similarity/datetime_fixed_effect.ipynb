{
 "cells": [
  {
   "cell_type": "code",
   "execution_count": 5,
   "metadata": {},
   "outputs": [
    {
     "name": "stdout",
     "output_type": "stream",
     "text": [
      "No duplicates found.\n",
      "Data processing complete. Files saved.\n"
     ]
    }
   ],
   "source": [
    "# Import necessary libraries\n",
    "import pandas as pd\n",
    "from datetime import datetime\n",
    "\n",
    "input_file = 'df_review'\n",
    "input_format = '.csv'\n",
    "\n",
    "# Function to load data\n",
    "def load_data(filename):\n",
    "    return pd.read_csv(filename)\n",
    "\n",
    "# Function to process data\n",
    "def process_data(df):\n",
    "    # Identify duplicates based on product_id and review_date\n",
    "    duplicates = df[df.duplicated(subset=['product_id', 'review_date'], keep=False)]\n",
    "\n",
    "    # Print duplicates if they exist\n",
    "    if not duplicates.empty:\n",
    "        print(\"Duplicates found:\")\n",
    "        print(duplicates)\n",
    "    else:\n",
    "        print(\"No duplicates found.\")\n",
    "\n",
    "    # Drop duplicates based on product_id and review_date\n",
    "    df = df.drop_duplicates(subset=['product_id', 'review_date'])\n",
    "    \n",
    "    # Convert review_date to the specified datetime format\n",
    "    df['datetime'] = pd.to_datetime(df['review_date']).dt.strftime('%d%b%Y %H:%M:%S')\n",
    "    \n",
    "    # Extract month and year from the datetime\n",
    "    df['mon'] = pd.to_datetime(df['review_date']).dt.month\n",
    "    df['year'] = pd.to_datetime(df['review_date']).dt.year\n",
    "    \n",
    "    return df\n",
    "\n",
    "# Main function to run the process\n",
    "def main():\n",
    "    # Load data\n",
    "    df = load_data(input_file + input_format)\n",
    "    \n",
    "    # Process data\n",
    "    df_processed = process_data(df)\n",
    "    \n",
    "    # Save processed data\n",
    "    df_processed.to_csv(input_file + '_processed' + '.csv')\n",
    "    # df_processed.to_stata(input_file + '_processed' + '.dta', write_index=False)\n",
    "    \n",
    "    print(\"Data processing complete. Files saved.\")\n",
    "\n",
    "# Run the script\n",
    "if __name__ == \"__main__\":\n",
    "    main()"
   ]
  }
 ],
 "metadata": {
  "kernelspec": {
   "display_name": "Python 3",
   "language": "python",
   "name": "python3"
  },
  "language_info": {
   "codemirror_mode": {
    "name": "ipython",
    "version": 3
   },
   "file_extension": ".py",
   "mimetype": "text/x-python",
   "name": "python",
   "nbconvert_exporter": "python",
   "pygments_lexer": "ipython3",
   "version": "3.9.19"
  }
 },
 "nbformat": 4,
 "nbformat_minor": 2
}
