{
 "cells": [
  {
   "cell_type": "markdown",
   "metadata": {},
   "source": [
    "Sentiment analysis - Colab in 수현's"
   ]
  },
  {
   "cell_type": "code",
   "execution_count": null,
   "metadata": {},
   "outputs": [],
   "source": [
    "'''\n",
    "sentiment anaylsis\n",
    "\n",
    "limit: over 512 token truncate --> long bert sentiment anaylsis 찾고 해야함\n",
    "\n",
    "input: helpful_vote 포함한 원본데이터\n",
    "output: sentiment analysis 열이 추가된 데이터\n",
    "\n",
    "'''\n",
    "\n",
    "\n",
    "import pandas as pd\n",
    "from transformers import pipeline, BertTokenizer, BertForSequenceClassification\n",
    "\n",
    "# Load the review data\n",
    "file_path = \"/content/resnet_helpful_processed.csv\"\n",
    "df = pd.read_csv(file_path)\n",
    "\n",
    "# Initialize the sentiment analysis pipeline with a more popular model\n",
    "model_name = 'nlptown/bert-base-multilingual-uncased-sentiment'\n",
    "tokenizer = BertTokenizer.from_pretrained(model_name)\n",
    "model = BertForSequenceClassification.from_pretrained(model_name)\n",
    "sentiment_analysis = pipeline(\"sentiment-analysis\", model=model, tokenizer=tokenizer)\n",
    "\n",
    "# Function to truncate text using the tokenizer\n",
    "def truncate_text(text, max_length=512):\n",
    "    if isinstance(text, float):\n",
    "        text = \"\"\n",
    "    encoded_input = tokenizer(text, truncation=True, max_length=max_length, return_tensors='pt')\n",
    "    truncated_text = tokenizer.decode(encoded_input['input_ids'][0], skip_special_tokens=True)\n",
    "    return truncated_text\n",
    "\n",
    "# Convert all entries to string and truncate texts over 512 tokens\n",
    "df['review_text'] = df['review_text'].astype(str)\n",
    "df['truncated_review_text'] = df['review_text'].apply(lambda x: truncate_text(x, max_length=512))\n",
    "\n",
    "# Apply sentiment analysis to the truncated review text\n",
    "df['sentiment'] = df['truncated_review_text'].apply(lambda x: sentiment_analysis(x)[0]['label'])\n",
    "df['sentiment_score'] = df['truncated_review_text'].apply(lambda x: sentiment_analysis(x)[0]['score'])\n",
    "\n",
    "# Save the result to a new CSV file\n",
    "output_file_path = \"/content/resnet_helpful_sentiment_processed2.csv\"\n",
    "df.to_csv(output_file_path, index=False)\n",
    "\n",
    "print(f\"Processed data saved to {output_file_path}\")"
   ]
  }
 ],
 "metadata": {
  "kernelspec": {
   "display_name": "Python 3.10.9 ('base')",
   "language": "python",
   "name": "python3"
  },
  "language_info": {
   "name": "python",
   "version": "3.10.9"
  },
  "orig_nbformat": 4,
  "vscode": {
   "interpreter": {
    "hash": "f3d8bb54a80b9e8c9e2f7218dcf87f6ab23fb90363aac5c68e126f4ba4502f1b"
   }
  }
 },
 "nbformat": 4,
 "nbformat_minor": 2
}
